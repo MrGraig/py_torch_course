{
  "nbformat": 4,
  "nbformat_minor": 0,
  "metadata": {
    "colab": {
      "provenance": [],
      "gpuType": "T4"
    },
    "kernelspec": {
      "name": "python3",
      "display_name": "Python 3"
    },
    "language_info": {
      "name": "python"
    },
    "accelerator": "GPU"
  },
  "cells": [
    {
      "cell_type": "code",
      "execution_count": null,
      "metadata": {
        "id": "laOQvY5EmjOp"
      },
      "outputs": [],
      "source": [
        "import torch"
      ]
    },
    {
      "cell_type": "code",
      "source": [
        "scalar = torch.tensor([[1,2,3], [2, 7, 5]])\n",
        "print(scalar.ndim)\n",
        "print(scalar.shape)"
      ],
      "metadata": {
        "id": "_9ae2ohunFRH",
        "colab": {
          "base_uri": "https://localhost:8080/"
        },
        "outputId": "22858c50-5cd8-40d3-f79d-15dede019366"
      },
      "execution_count": null,
      "outputs": [
        {
          "output_type": "stream",
          "name": "stdout",
          "text": [
            "2\n",
            "torch.Size([2, 3])\n"
          ]
        }
      ]
    },
    {
      "cell_type": "code",
      "source": [
        "rand_tens = torch.rand(size=(2,3,4))\n",
        "rand_tens"
      ],
      "metadata": {
        "id": "7ylUzv4OUDxA"
      },
      "execution_count": null,
      "outputs": []
    },
    {
      "cell_type": "code",
      "source": [
        "rand_tens.device"
      ],
      "metadata": {
        "colab": {
          "base_uri": "https://localhost:8080/"
        },
        "id": "jqkSSOp3Z6jm",
        "outputId": "bed701b1-cf3d-40c2-e717-8ba55fbde521"
      },
      "execution_count": null,
      "outputs": [
        {
          "output_type": "execute_result",
          "data": {
            "text/plain": [
              "device(type='cpu')"
            ]
          },
          "metadata": {},
          "execution_count": 16
        }
      ]
    },
    {
      "cell_type": "code",
      "source": [
        "tens1 = torch.tensor([[1, 2],\n",
        "         [2, 4],\n",
        "         [3, 3]])\n",
        "tens2 = torch.tensor([[1, 5],\n",
        "         [2, 6],\n",
        "         [2, 10]])\n",
        "tens2 = tens2.T\n",
        "tens1 @ tens2"
      ],
      "metadata": {
        "id": "NHwY3Ch1bVH_"
      },
      "execution_count": null,
      "outputs": []
    },
    {
      "cell_type": "code",
      "source": [
        "x = torch.arange(0, 100, 10)\n",
        "x.max()\n",
        "x.type(torch.float32).mean()"
      ],
      "metadata": {
        "colab": {
          "base_uri": "https://localhost:8080/"
        },
        "id": "4yY1vbEddW_w",
        "outputId": "ae1b2037-be32-424b-c54e-105829f6fe2e"
      },
      "execution_count": null,
      "outputs": [
        {
          "output_type": "execute_result",
          "data": {
            "text/plain": [
              "tensor(45.)"
            ]
          },
          "metadata": {},
          "execution_count": 31
        }
      ]
    },
    {
      "cell_type": "code",
      "source": [
        "tens = torch.arange(1, 10)\n",
        "print(tens, tens.shape)\n",
        "tens_reshaped = tens.reshape(1, 9)\n",
        "print(tens_reshaped, tens_reshaped.shape)"
      ],
      "metadata": {
        "colab": {
          "base_uri": "https://localhost:8080/"
        },
        "id": "bHLpzNnsEDpP",
        "outputId": "6a13c130-f6e3-47e6-e7ca-52adcfb25035"
      },
      "execution_count": null,
      "outputs": [
        {
          "output_type": "stream",
          "name": "stdout",
          "text": [
            "tensor([1, 2, 3, 4, 5, 6, 7, 8, 9]) torch.Size([9])\n",
            "tensor([[1, 2, 3, 4, 5, 6, 7, 8, 9]]) torch.Size([1, 9])\n"
          ]
        }
      ]
    },
    {
      "cell_type": "code",
      "source": [
        "tens2 = torch.arange(10, 19)\n",
        "stacked = torch.stack([tens, tens, tens2], dim=1)\n",
        "print(stacked)"
      ],
      "metadata": {
        "colab": {
          "base_uri": "https://localhost:8080/"
        },
        "id": "Pa6aFC0oFbNr",
        "outputId": "eaef0dd4-1e92-438e-81ab-166f1fa74331"
      },
      "execution_count": null,
      "outputs": [
        {
          "output_type": "stream",
          "name": "stdout",
          "text": [
            "tensor([[ 1,  1, 10],\n",
            "        [ 2,  2, 11],\n",
            "        [ 3,  3, 12],\n",
            "        [ 4,  4, 13],\n",
            "        [ 5,  5, 14],\n",
            "        [ 6,  6, 15],\n",
            "        [ 7,  7, 16],\n",
            "        [ 8,  8, 17],\n",
            "        [ 9,  9, 18]])\n"
          ]
        }
      ]
    },
    {
      "cell_type": "code",
      "source": [
        "stacked[:, 2]"
      ],
      "metadata": {
        "colab": {
          "base_uri": "https://localhost:8080/"
        },
        "id": "f4kOqhUVH4nb",
        "outputId": "fde16d19-eb93-4107-e520-1777d277cb00"
      },
      "execution_count": null,
      "outputs": [
        {
          "output_type": "execute_result",
          "data": {
            "text/plain": [
              "tensor([10, 11, 12, 13, 14, 15, 16, 17, 18])"
            ]
          },
          "metadata": {},
          "execution_count": 29
        }
      ]
    },
    {
      "cell_type": "code",
      "source": [
        "random_seed = 43\n",
        "torch.manual_seed(random_seed)\n",
        "x1 = torch.rand(3, 4)\n",
        "torch.manual_seed(random_seed)\n",
        "x2 = torch.rand(3, 4)\n",
        "x1, x2"
      ],
      "metadata": {
        "id": "nlIPTxaLKHt7"
      },
      "execution_count": null,
      "outputs": []
    },
    {
      "cell_type": "code",
      "source": [
        "torch.cuda.is_available()"
      ],
      "metadata": {
        "colab": {
          "base_uri": "https://localhost:8080/"
        },
        "id": "9KycadLjRNET",
        "outputId": "1e3cd7ef-ff24-49ae-e48f-af2e424bc89c"
      },
      "execution_count": null,
      "outputs": [
        {
          "output_type": "execute_result",
          "data": {
            "text/plain": [
              "False"
            ]
          },
          "metadata": {},
          "execution_count": 44
        }
      ]
    },
    {
      "cell_type": "code",
      "source": [
        "torch.cuda.is_available()"
      ],
      "metadata": {
        "colab": {
          "base_uri": "https://localhost:8080/"
        },
        "id": "hwZKOHm2RNJb",
        "outputId": "6d17f350-8bf4-40dc-fef8-7c977e84196d"
      },
      "execution_count": null,
      "outputs": [
        {
          "output_type": "execute_result",
          "data": {
            "text/plain": [
              "True"
            ]
          },
          "metadata": {},
          "execution_count": 3
        }
      ]
    },
    {
      "cell_type": "code",
      "source": [
        "device = \"cuda\" if torch.cuda.is_available() else \"cpu\"\n",
        "print(device)"
      ],
      "metadata": {
        "id": "bkuOBVtGUvhh"
      },
      "execution_count": null,
      "outputs": []
    },
    {
      "cell_type": "code",
      "source": [
        "torch.cuda.device_count()"
      ],
      "metadata": {
        "id": "R-SnsJIxU7Ty"
      },
      "execution_count": null,
      "outputs": []
    },
    {
      "cell_type": "code",
      "source": [
        "# Create tensor (default on CPU)\n",
        "tensor = torch.tensor([1, 2, 3])\n",
        "\n",
        "# Tensor not on GPU\n",
        "print(tensor, tensor.device)\n",
        "\n",
        "# Move tensor to GPU (if available)\n",
        "tensor_on_gpu = tensor.to(device)\n",
        "tensor_on_gpu"
      ],
      "metadata": {
        "id": "-rplSlZFVR7x"
      },
      "execution_count": null,
      "outputs": []
    }
  ]
}